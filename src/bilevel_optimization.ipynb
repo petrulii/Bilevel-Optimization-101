{
 "cells": [
  {
   "cell_type": "markdown",
   "metadata": {},
   "source": [
    "# Tutorial on Bilevel Optimization\n",
    "## with Neural Implicit Differentiation"
   ]
  },
  {
   "cell_type": "code",
   "execution_count": null,
   "metadata": {},
   "outputs": [],
   "source": [
    "fo = lambda x: x[0]**2+x[1]**2\n",
    "fi = lambda x: (x[0]-x[1])**2\n",
    "bp = BilevelProblem(inner_objective=Function(fo), outer_objective=Function(fi))\n",
    "# Run the algorithm on the function\n",
    "x_opt, iters, n_iters = bp.run()\n",
    "print('Argmin of function:', x_opt)\n",
    "print('Number of iterations:', n_iters)\n",
    "# Plot the path of the algorithm\n",
    "bp.visualize(iters)"
   ]
  }
 ],
 "metadata": {
  "kernelspec": {
   "display_name": "Python 3.8.10 64-bit",
   "language": "python",
   "name": "python3"
  },
  "language_info": {
   "name": "python",
   "version": "3.8.10"
  },
  "orig_nbformat": 4,
  "vscode": {
   "interpreter": {
    "hash": "916dbcbb3f70747c44a77c7bcd40155683ae19c65e1c03b4aa3499c5328201f1"
   }
  }
 },
 "nbformat": 4,
 "nbformat_minor": 2
}
